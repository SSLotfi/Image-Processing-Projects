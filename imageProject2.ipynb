{
 "cells": [
  {
   "cell_type": "markdown",
   "metadata": {},
   "source": []
  },
  {
   "cell_type": "markdown",
   "metadata": {},
   "source": [
    "سلمى شامل محمد لطفى موسى - salma.s.lotfi@gmail.com"
   ]
  },
  {
   "cell_type": "markdown",
   "metadata": {},
   "source": [
    "Importing Libraries:"
   ]
  },
  {
   "cell_type": "code",
   "execution_count": 2,
   "metadata": {},
   "outputs": [],
   "source": [
    "import numpy as np\n",
    "import cv2\n",
    "import matplotlib.pyplot as plt"
   ]
  },
  {
   "cell_type": "markdown",
   "metadata": {},
   "source": [
    "1- Load Image :"
   ]
  },
  {
   "cell_type": "code",
   "execution_count": 93,
   "metadata": {},
   "outputs": [
    {
     "data": {
      "text/plain": [
       "<matplotlib.image.AxesImage at 0x1f0eb082a90>"
      ]
     },
     "execution_count": 93,
     "metadata": {},
     "output_type": "execute_result"
    },
    {
     "data": {
      "image/png": "[encoded data removed]",
      "text/plain": [
       "<Figure size 432x288 with 1 Axes>"
      ]
     },
     "metadata": {
      "needs_background": "light"
     },
     "output_type": "display_data"
    }
   ],
   "source": [
    "original_image = cv2.imread(\"C:\\\\Users\\\\clt\\\\Desktop\\\\ip\\\\squares.png\" , 0)\n",
    "plt.imshow(original_image , cmap=plt.get_cmap('gray'))"
   ]
  },
  {
   "cell_type": "markdown",
   "metadata": {},
   "source": [
    "1- Harris Corner detection :"
   ]
  },
  {
   "cell_type": "code",
   "execution_count": 85,
   "metadata": {},
   "outputs": [],
   "source": [
    "def Harris_Corner(img , window_size):\n",
    "    #calculate derivatives in x and y direction\n",
    "    I_x = cv2.Sobel(img,cv2.CV_64F,1,0,ksize=5)\n",
    "    I_y = cv2.Sobel(img,cv2.CV_64F,0,1,ksize=5)\n",
    "    \n",
    "    I_x_x = I_x * I_x\n",
    "    I_x_y = I_x * I_y\n",
    "    I_y_y = I_y * I_y\n",
    "    \n",
    "    corners = []\n",
    "    \n",
    "    result_img = cv2.cvtColor(img, cv2.COLOR_GRAY2BGR)\n",
    "    \n",
    "    offset = int(window_size / 2)\n",
    "    \n",
    "    for j in range(offset , img.shape[0] - offset):\n",
    "        for i in range(offset , img.shape[1] - offset):\n",
    "            S_x_x = np.sum(I_x_x[j - offset: j + offset + 1, i - offset : i + offset + 1])\n",
    "            S_y_y = np.sum(I_y_y[j - offset: j + offset + 1, i - offset : i + offset + 1])\n",
    "            S_x_y = np.sum(I_x_y[j - offset: j + offset + 1, i - offset : i + offset + 1])\n",
    "\n",
    "            M_x_y = np.array([[S_x_x , S_x_y] , [S_x_y , S_y_y]])\n",
    "\n",
    "            det = np.linalg.det(M_x_y)\n",
    "\n",
    "            trace_M = S_x_x + S_y_y\n",
    "\n",
    "            R = det - (0.04 * trace_M * trace_M)\n",
    "\n",
    "            if R > 0 :\n",
    "                result_img[j,i] = [255,0,255]\n",
    "                \n",
    "    return result_img\n",
    "    "
   ]
  },
  {
   "cell_type": "markdown",
   "metadata": {},
   "source": [
    "testing the function:"
   ]
  },
  {
   "cell_type": "code",
   "execution_count": 100,
   "metadata": {},
   "outputs": [
    {
     "data": {
      "text/plain": [
       "<matplotlib.image.AxesImage at 0x1f0ebba4518>"
      ]
     },
     "execution_count": 100,
     "metadata": {},
     "output_type": "execute_result"
    },
    {
     "data": {
      "image/png": "[encoded data removed]",
      "text/plain": [
       "<Figure size 432x288 with 1 Axes>"
      ]
     },
     "metadata": {
      "needs_background": "light"
     },
     "output_type": "display_data"
    }
   ],
   "source": [
    "harris_corner = Harris_Corner(original_image , 10)\n",
    "\n",
    "plt.imshow(harris_corner)"
   ]
  },
  {
   "cell_type": "markdown",
   "metadata": {},
   "source": [
    "2- Compare with opencv function:"
   ]
  },
  {
   "cell_type": "code",
   "execution_count": 101,
   "metadata": {},
   "outputs": [
    {
     "data": {
      "text/plain": [
       "<matplotlib.image.AxesImage at 0x1f0ebbfdc50>"
      ]
     },
     "execution_count": 101,
     "metadata": {},
     "output_type": "execute_result"
    },
    {
     "data": {
      "image/png": "[encoded data removed]",
      "text/plain": [
       "<Figure size 432x288 with 1 Axes>"
      ]
     },
     "metadata": {
      "needs_background": "light"
     },
     "output_type": "display_data"
    }
   ],
   "source": [
    "harris_corner_opencv = cv2.cornerHarris(original_image,10,5,0.04)\n",
    "plt.imshow(harris_corner_opencv)"
   ]
  },
  {
   "cell_type": "code",
   "execution_count": null,
   "metadata": {},
   "outputs": [],
   "source": []
  }
 ],
 "metadata": {
  "kernelspec": {
   "display_name": "Python 3",
   "language": "python",
   "name": "python3"
  },
  "language_info": {
   "codemirror_mode": {
    "name": "ipython",
    "version": 3
   },
   "file_extension": ".py",
   "mimetype": "text/x-python",
   "name": "python",
   "nbconvert_exporter": "python",
   "pygments_lexer": "ipython3",
   "version": "3.7.1"
  }
 },
 "nbformat": 4,
 "nbformat_minor": 2
}
